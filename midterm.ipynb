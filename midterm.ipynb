{
 "cells": [
  {
   "cell_type": "markdown",
   "metadata": {},
   "source": [
    "# Midterm Exam\n"
   ]
  },
  {
   "cell_type": "code",
   "execution_count": 1,
   "metadata": {},
   "outputs": [],
   "source": [
    "import ipywidgets as widgets\n",
    "from IPython.display import display, Markdown\n",
    "from IPython.display import clear_output\n",
    "import time\n",
    "import random\n",
    "from xlrd import open_workbook"
   ]
  },
  {
   "cell_type": "code",
   "execution_count": 2,
   "metadata": {},
   "outputs": [
    {
     "data": {
      "application/vnd.jupyter.widget-view+json": {
       "model_id": "55c693d00b8e4c7a9667960a845ce090",
       "version_major": 2,
       "version_minor": 0
      },
      "text/plain": [
       "Button(description='Show Questions', icon='check', style=ButtonStyle())"
      ]
     },
     "metadata": {},
     "output_type": "display_data"
    },
    {
     "data": {
      "application/vnd.jupyter.widget-view+json": {
       "model_id": "82993d78b4d84cd6948f125c0c29ac9e",
       "version_major": 2,
       "version_minor": 0
      },
      "text/plain": [
       "IntProgress(value=0, max=60)"
      ]
     },
     "metadata": {},
     "output_type": "display_data"
    },
    {
     "data": {
      "application/vnd.jupyter.widget-view+json": {
       "model_id": "3bf777a5f8dd4fa2b2f79a64f7cf7cc8",
       "version_major": 2,
       "version_minor": 0
      },
      "text/plain": [
       "Button(description='Start', icon='check', style=ButtonStyle())"
      ]
     },
     "metadata": {},
     "output_type": "display_data"
    }
   ],
   "source": [
    "questions = open_workbook('questions.xlsx').sheet_by_index(0)\n",
    "\n",
    "button = widgets.Button(\n",
    "    description='Show Questions',\n",
    "    disabled=False,\n",
    "    button_style='',\n",
    "    icon='check'\n",
    ")\n",
    "start_button = widgets.Button(\n",
    "    description='Start',\n",
    "    disabled=False,\n",
    "    button_style='',\n",
    "    icon='check'\n",
    ")\n",
    "progress_bar = widgets.IntProgress(min=0, max=60)\n",
    "\n",
    "display(button, progress_bar, start_button)\n",
    "\n",
    "def on_button_clicked(b):\n",
    "    clear_output(wait=True)\n",
    "    display(button)\n",
    "    for i in sorted(random.sample(range(1,66),5)):\n",
    "        display(Markdown('**'+str(i)+'**:'+questions.cell(i-1,0).value))\n",
    "    \n",
    "    display(progress_bar, start_button)\n",
    "\n",
    "def on_start_button_clicked(b):\n",
    "    try:\n",
    "        for i in range(60):\n",
    "            progress_bar.value = i\n",
    "            time.sleep(1)\n",
    "    except KeyboardInterrupt:\n",
    "        progress_bar.value = 0            \n",
    "        pass\n",
    "\n",
    "button.on_click(on_button_clicked)\n",
    "start_button.on_click(on_start_button_clicked)\n",
    "\n",
    "# to interrupt the progress bar, press Esc ii"
   ]
  },
  {
   "cell_type": "markdown",
   "metadata": {},
   "source": [
    "To stop the timer, press `Esc i i`"
   ]
  },
  {
   "cell_type": "code",
   "execution_count": 3,
   "metadata": {},
   "outputs": [
    {
     "data": {
      "text/markdown": [
       "**1**: What is the objective of computer vision and how it is different from computer graphics?"
      ],
      "text/plain": [
       "<IPython.core.display.Markdown object>"
      ]
     },
     "metadata": {},
     "output_type": "display_data"
    },
    {
     "data": {
      "text/markdown": [
       "**2**: List four examples of computer vision tasks."
      ],
      "text/plain": [
       "<IPython.core.display.Markdown object>"
      ]
     },
     "metadata": {},
     "output_type": "display_data"
    },
    {
     "data": {
      "text/markdown": [
       "**3**: What is the objective of visual odometry?"
      ],
      "text/plain": [
       "<IPython.core.display.Markdown object>"
      ]
     },
     "metadata": {},
     "output_type": "display_data"
    },
    {
     "data": {
      "text/markdown": [
       "**4**: What are the underlying assumptions of visual odometry, in other words, which assumptions should be satisfied for successful visual odometry?"
      ],
      "text/plain": [
       "<IPython.core.display.Markdown object>"
      ]
     },
     "metadata": {},
     "output_type": "display_data"
    },
    {
     "data": {
      "text/markdown": [
       "**5**: What is the potential issue of visual odometry compared against visual SLAM?"
      ],
      "text/plain": [
       "<IPython.core.display.Markdown object>"
      ]
     },
     "metadata": {},
     "output_type": "display_data"
    },
    {
     "data": {
      "text/markdown": [
       "**6**: Given image sequence, what are the remaining procedures of visual odometry?"
      ],
      "text/plain": [
       "<IPython.core.display.Markdown object>"
      ]
     },
     "metadata": {},
     "output_type": "display_data"
    },
    {
     "data": {
      "text/markdown": [
       "**7**: In a pin-hall camera, discuss the benefits and the drawbacks of small aperture"
      ],
      "text/plain": [
       "<IPython.core.display.Markdown object>"
      ]
     },
     "metadata": {},
     "output_type": "display_data"
    },
    {
     "data": {
      "text/markdown": [
       "**8**: What are the two properties of converging lens?"
      ],
      "text/plain": [
       "<IPython.core.display.Markdown object>"
      ]
     },
     "metadata": {},
     "output_type": "display_data"
    },
    {
     "data": {
      "text/markdown": [
       "**9**: The thin lens equation is given by $\\frac{1}{f}=\\frac{1}{Z}+\\frac{1}{e}$. What do $f$, $Z$, and $e$ represent?"
      ],
      "text/plain": [
       "<IPython.core.display.Markdown object>"
      ]
     },
     "metadata": {},
     "output_type": "display_data"
    },
    {
     "data": {
      "text/markdown": [
       "**10**: Suppose that the focal length is fixed.  How would the image plane for the focused image move, as the object moves further away?"
      ],
      "text/plain": [
       "<IPython.core.display.Markdown object>"
      ]
     },
     "metadata": {},
     "output_type": "display_data"
    },
    {
     "data": {
      "text/markdown": [
       "**11**: What is vanishing point?"
      ],
      "text/plain": [
       "<IPython.core.display.Markdown object>"
      ]
     },
     "metadata": {},
     "output_type": "display_data"
    },
    {
     "data": {
      "text/markdown": [
       "**12**: What is the field of view, and how does it change when the focal length is changed?"
      ],
      "text/plain": [
       "<IPython.core.display.Markdown object>"
      ]
     },
     "metadata": {},
     "output_type": "display_data"
    },
    {
     "data": {
      "text/markdown": [
       "**13**: What is the difference between the rolling shutter and the global shutter?"
      ],
      "text/plain": [
       "<IPython.core.display.Markdown object>"
      ]
     },
     "metadata": {},
     "output_type": "display_data"
    },
    {
     "data": {
      "text/markdown": [
       "**14**: Describe the meaning of the following equation: $$ P_c = R P_w + T $$"
      ],
      "text/plain": [
       "<IPython.core.display.Markdown object>"
      ]
     },
     "metadata": {},
     "output_type": "display_data"
    },
    {
     "data": {
      "text/markdown": [
       "**15**: Describe the meaning of the following equation: \\begin{align*}\n",
       "\\begin{bmatrix} X_c \\\\ Y_c \\\\ Z_c \\end{bmatrix} =\n",
       "\\left[\\begin{array}{ccc|c}\n",
       "& & &\\\\\n",
       "& R & & T\\\\\n",
       "& & &\\\\\n",
       "\\end{array}\\right]\n",
       "\\begin{bmatrix} X_w \\\\ Y_w \\\\ Z_w \\\\ 1\\end{bmatrix}\n",
       "\\end{align*}"
      ],
      "text/plain": [
       "<IPython.core.display.Markdown object>"
      ]
     },
     "metadata": {},
     "output_type": "display_data"
    },
    {
     "data": {
      "text/markdown": [
       "**16**: Describe the meaning of the following equation: \\begin{align*}\n",
       "\\lambda \\begin{bmatrix} u \\\\ v \\\\ 1\\end{bmatrix} =\n",
       "\\begin{bmatrix}\n",
       "\\alpha_u & 0 & u_0 \\\\\n",
       "0 & \\alpha_v & v_0 \\\\\n",
       "0 & 0 & 1 \n",
       "\\end{bmatrix}\n",
       "\\begin{bmatrix} X_c \\\\ Y_c \\\\ Z_c \\end{bmatrix}\n",
       "= K \\begin{bmatrix} X_c \\\\ Y_c \\\\ Z_c \\end{bmatrix}\n",
       "\\end{align*}"
      ],
      "text/plain": [
       "<IPython.core.display.Markdown object>"
      ]
     },
     "metadata": {},
     "output_type": "display_data"
    },
    {
     "data": {
      "text/markdown": [
       "**17**: Describe the meaning of the following equation: \\begin{align*}\n",
       "\\lambda \\begin{bmatrix} u \\\\ v \\\\ 1\\end{bmatrix} =\n",
       "K[\\; R\\; | T] \\begin{bmatrix} X_w \\\\ Y_w \\\\ Z_w \\\\ 1\\end{bmatrix}\n",
       "= M \\begin{bmatrix} X_w \\\\ Y_w \\\\ Z_w \\\\ 1\\end{bmatrix}\n",
       "\\end{align*}"
      ],
      "text/plain": [
       "<IPython.core.display.Markdown object>"
      ]
     },
     "metadata": {},
     "output_type": "display_data"
    },
    {
     "data": {
      "text/markdown": [
       "**18**: How many degrees of freedom are in the perspective projection matrix  $M$ ?"
      ],
      "text/plain": [
       "<IPython.core.display.Markdown object>"
      ]
     },
     "metadata": {},
     "output_type": "display_data"
    },
    {
     "data": {
      "text/markdown": [
       "**19**: How can we find the camera location from the perspective projection matrix  $M$?"
      ],
      "text/plain": [
       "<IPython.core.display.Markdown object>"
      ]
     },
     "metadata": {},
     "output_type": "display_data"
    },
    {
     "data": {
      "text/markdown": [
       "**20**: What are the requirements for Tsai's calibration method?"
      ],
      "text/plain": [
       "<IPython.core.display.Markdown object>"
      ]
     },
     "metadata": {},
     "output_type": "display_data"
    },
    {
     "data": {
      "text/markdown": [
       "**21**: In Tsai's method, how the intrinsic parameter $K$ is extracted from the projection matrix $M$ ?"
      ],
      "text/plain": [
       "<IPython.core.display.Markdown object>"
      ]
     },
     "metadata": {},
     "output_type": "display_data"
    },
    {
     "data": {
      "text/markdown": [
       "**22**: What are the requirements for Zhang's calibration method?"
      ],
      "text/plain": [
       "<IPython.core.display.Markdown object>"
      ]
     },
     "metadata": {},
     "output_type": "display_data"
    },
    {
     "data": {
      "text/markdown": [
       "**23**: What is the homography?"
      ],
      "text/plain": [
       "<IPython.core.display.Markdown object>"
      ]
     },
     "metadata": {},
     "output_type": "display_data"
    },
    {
     "data": {
      "text/markdown": [
       "**24**: How DLT is different from PnP?"
      ],
      "text/plain": [
       "<IPython.core.display.Markdown object>"
      ]
     },
     "metadata": {},
     "output_type": "display_data"
    },
    {
     "data": {
      "text/markdown": [
       "**25**: What is the difference between image processing, image filtering, and image warping?"
      ],
      "text/plain": [
       "<IPython.core.display.Markdown object>"
      ]
     },
     "metadata": {},
     "output_type": "display_data"
    },
    {
     "data": {
      "text/markdown": [
       "**26**: What is a neighborhood filter?"
      ],
      "text/plain": [
       "<IPython.core.display.Markdown object>"
      ]
     },
     "metadata": {},
     "output_type": "display_data"
    },
    {
     "data": {
      "text/markdown": [
       "**27**: What is the difference between cross-correlation and convolution?"
      ],
      "text/plain": [
       "<IPython.core.display.Markdown object>"
      ]
     },
     "metadata": {},
     "output_type": "display_data"
    },
    {
     "data": {
      "text/markdown": [
       "**28**: Why do we need padding when convoluting an image with a filter?"
      ],
      "text/plain": [
       "<IPython.core.display.Markdown object>"
      ]
     },
     "metadata": {},
     "output_type": "display_data"
    },
    {
     "data": {
      "text/markdown": [
       "**29**: What is the difference between the averaging filter and the Gaussian filter?"
      ],
      "text/plain": [
       "<IPython.core.display.Markdown object>"
      ]
     },
     "metadata": {},
     "output_type": "display_data"
    },
    {
     "data": {
      "text/markdown": [
       "**30**: What are the effects of the standard deviation $\\sigma$ and the filter size $W$ on the Gaussian filter?"
      ],
      "text/plain": [
       "<IPython.core.display.Markdown object>"
      ]
     },
     "metadata": {},
     "output_type": "display_data"
    },
    {
     "data": {
      "text/markdown": [
       "**31**: What is the difference between low-pass filters and high-pass filters?"
      ],
      "text/plain": [
       "<IPython.core.display.Markdown object>"
      ]
     },
     "metadata": {},
     "output_type": "display_data"
    },
    {
     "data": {
      "text/markdown": [
       "**32**: What is the difference between the averaging filter and the median filter?"
      ],
      "text/plain": [
       "<IPython.core.display.Markdown object>"
      ]
     },
     "metadata": {},
     "output_type": "display_data"
    },
    {
     "data": {
      "text/markdown": [
       "**33**: What is the motivation of the bilateral filter?"
      ],
      "text/plain": [
       "<IPython.core.display.Markdown object>"
      ]
     },
     "metadata": {},
     "output_type": "display_data"
    },
    {
     "data": {
      "text/markdown": [
       "**34**: How does the bilateral filter work? More specifically, how the bilateral filter is defined?"
      ],
      "text/plain": [
       "<IPython.core.display.Markdown object>"
      ]
     },
     "metadata": {},
     "output_type": "display_data"
    },
    {
     "data": {
      "text/markdown": [
       "**35**: What is the mathematical definition of edge?"
      ],
      "text/plain": [
       "<IPython.core.display.Markdown object>"
      ]
     },
     "metadata": {},
     "output_type": "display_data"
    },
    {
     "data": {
      "text/markdown": [
       "**36**: What does the image gradient represent?"
      ],
      "text/plain": [
       "<IPython.core.display.Markdown object>"
      ]
     },
     "metadata": {},
     "output_type": "display_data"
    },
    {
     "data": {
      "text/markdown": [
       "**37**: How do we compute the image gradient?"
      ],
      "text/plain": [
       "<IPython.core.display.Markdown object>"
      ]
     },
     "metadata": {},
     "output_type": "display_data"
    },
    {
     "data": {
      "text/markdown": [
       "**38**: What is the motivation of the derivatives of Gaussian filter?"
      ],
      "text/plain": [
       "<IPython.core.display.Markdown object>"
      ]
     },
     "metadata": {},
     "output_type": "display_data"
    },
    {
     "data": {
      "text/markdown": [
       "**39**: How do we detect edges with the derivatives of Gaussian filter?"
      ],
      "text/plain": [
       "<IPython.core.display.Markdown object>"
      ]
     },
     "metadata": {},
     "output_type": "display_data"
    },
    {
     "data": {
      "text/markdown": [
       "**40**: What is the Laplacian of the Gaussian?"
      ],
      "text/plain": [
       "<IPython.core.display.Markdown object>"
      ]
     },
     "metadata": {},
     "output_type": "display_data"
    },
    {
     "data": {
      "text/markdown": [
       "**41**: How do we detect edges with the Laplacian of Gaussian filter?"
      ],
      "text/plain": [
       "<IPython.core.display.Markdown object>"
      ]
     },
     "metadata": {},
     "output_type": "display_data"
    },
    {
     "data": {
      "text/markdown": [
       "**42**: What is the procedure to perform template matching?"
      ],
      "text/plain": [
       "<IPython.core.display.Markdown object>"
      ]
     },
     "metadata": {},
     "output_type": "display_data"
    },
    {
     "data": {
      "text/markdown": [
       "**43**: What is the difference between SSD and SAD?"
      ],
      "text/plain": [
       "<IPython.core.display.Markdown object>"
      ]
     },
     "metadata": {},
     "output_type": "display_data"
    },
    {
     "data": {
      "text/markdown": [
       "**44**: What is the difference between SSD and Zero-Mean SSD?"
      ],
      "text/plain": [
       "<IPython.core.display.Markdown object>"
      ]
     },
     "metadata": {},
     "output_type": "display_data"
    },
    {
     "data": {
      "text/markdown": [
       "**45**: What is the difference between feature detection, description, and matching?"
      ],
      "text/plain": [
       "<IPython.core.display.Markdown object>"
      ]
     },
     "metadata": {},
     "output_type": "display_data"
    },
    {
     "data": {
      "text/markdown": [
       "**46**: What are the applications of image features?"
      ],
      "text/plain": [
       "<IPython.core.display.Markdown object>"
      ]
     },
     "metadata": {},
     "output_type": "display_data"
    },
    {
     "data": {
      "text/markdown": [
       "**47**: Which features are desirable?"
      ],
      "text/plain": [
       "<IPython.core.display.Markdown object>"
      ]
     },
     "metadata": {},
     "output_type": "display_data"
    },
    {
     "data": {
      "text/markdown": [
       "**48**: In the following figure, how can we characterize corner? ![](fig48.png)"
      ],
      "text/plain": [
       "<IPython.core.display.Markdown object>"
      ]
     },
     "metadata": {},
     "output_type": "display_data"
    },
    {
     "data": {
      "text/markdown": [
       "**49**: Describe the meaning of the following equation: \\begin{align*}\n",
       "E(x,y,\\Delta x, \\Delta y) =\\begin{bmatrix} \\Delta x \\\\ \\Delta y \\end{bmatrix}^T \n",
       "M(x,y)\n",
       "\\begin{bmatrix} \\Delta x \\\\ \\Delta y \\end{bmatrix}\n",
       "\\end{align*}"
      ],
      "text/plain": [
       "<IPython.core.display.Markdown object>"
      ]
     },
     "metadata": {},
     "output_type": "display_data"
    },
    {
     "data": {
      "text/markdown": [
       "**50**: How to we find corners with the following matrix? \\begin{align*}\n",
       "M(x,y) = \\sum_{u,v\\in W}\\begin{bmatrix} I_x^2 & I_xI_y \\\\ I_x I_y & I_y^2 \\end{bmatrix}\\bigg|_{x+u,y+v} \n",
       "\\end{align*}"
      ],
      "text/plain": [
       "<IPython.core.display.Markdown object>"
      ]
     },
     "metadata": {},
     "output_type": "display_data"
    },
    {
     "data": {
      "text/markdown": [
       "**51**: How do we compute Harris score and Shi-Tomasi score from the following matrix? \\begin{align*}\n",
       "M(x,y) = \\sum_{u,v\\in W}\\begin{bmatrix} I_x^2 & I_xI_y \\\\ I_x I_y & I_y^2 \\end{bmatrix}\\bigg|_{x+u,y+v} \n",
       "\\end{align*}"
      ],
      "text/plain": [
       "<IPython.core.display.Markdown object>"
      ]
     },
     "metadata": {},
     "output_type": "display_data"
    },
    {
     "data": {
      "text/markdown": [
       "**52**: What is the benefit of the Harris score compared with the Shi-Tomasi score?"
      ],
      "text/plain": [
       "<IPython.core.display.Markdown object>"
      ]
     },
     "metadata": {},
     "output_type": "display_data"
    },
    {
     "data": {
      "text/markdown": [
       "**53**: Once the Harris corner scores are computed, how do we identify keypoints?"
      ],
      "text/plain": [
       "<IPython.core.display.Markdown object>"
      ]
     },
     "metadata": {},
     "output_type": "display_data"
    },
    {
     "data": {
      "text/markdown": [
       "**54**: Is Harris corner detector invariant to translation and rotation?"
      ],
      "text/plain": [
       "<IPython.core.display.Markdown object>"
      ]
     },
     "metadata": {},
     "output_type": "display_data"
    },
    {
     "data": {
      "text/markdown": [
       "**55**: Is Harris corner detector invariant to scaling?"
      ],
      "text/plain": [
       "<IPython.core.display.Markdown object>"
      ]
     },
     "metadata": {},
     "output_type": "display_data"
    },
    {
     "data": {
      "text/markdown": [
       "**56**: Is Harris corner detector invariant to illumination change?"
      ],
      "text/plain": [
       "<IPython.core.display.Markdown object>"
      ]
     },
     "metadata": {},
     "output_type": "display_data"
    },
    {
     "data": {
      "text/markdown": [
       "**57**: How do we select the scale of a feature using the Laplacian of Gaussian?"
      ],
      "text/plain": [
       "<IPython.core.display.Markdown object>"
      ]
     },
     "metadata": {},
     "output_type": "display_data"
    },
    {
     "data": {
      "text/markdown": [
       "**58**: How does SIFT determine the location and the scale of a feature simultaneously?"
      ],
      "text/plain": [
       "<IPython.core.display.Markdown object>"
      ]
     },
     "metadata": {},
     "output_type": "display_data"
    },
    {
     "data": {
      "text/markdown": [
       "**59**: How is the Laplacian of Gaussian (LoG) is related to the Difference of Gaussian (DoG)?"
      ],
      "text/plain": [
       "<IPython.core.display.Markdown object>"
      ]
     },
     "metadata": {},
     "output_type": "display_data"
    },
    {
     "data": {
      "text/markdown": [
       "**60**: How do we make a feature descriptor rotationally invariant?"
      ],
      "text/plain": [
       "<IPython.core.display.Markdown object>"
      ]
     },
     "metadata": {},
     "output_type": "display_data"
    },
    {
     "data": {
      "text/markdown": [
       "**61**: How do we make a feature descriptor scale invariant?"
      ],
      "text/plain": [
       "<IPython.core.display.Markdown object>"
      ]
     },
     "metadata": {},
     "output_type": "display_data"
    },
    {
     "data": {
      "text/markdown": [
       "**62**: How is the histogram of oriented gradient (HOG) descriptor defined?"
      ],
      "text/plain": [
       "<IPython.core.display.Markdown object>"
      ]
     },
     "metadata": {},
     "output_type": "display_data"
    },
    {
     "data": {
      "text/markdown": [
       "**63**: What are the outputs of SIFT detector and descriptor?"
      ],
      "text/plain": [
       "<IPython.core.display.Markdown object>"
      ]
     },
     "metadata": {},
     "output_type": "display_data"
    },
    {
     "data": {
      "text/markdown": [
       "**64**: How do we match descriptors with the similarity?"
      ],
      "text/plain": [
       "<IPython.core.display.Markdown object>"
      ]
     },
     "metadata": {},
     "output_type": "display_data"
    },
    {
     "data": {
      "text/markdown": [
       "**65**: How do we match descriptors with the distance ration in SIFT?"
      ],
      "text/plain": [
       "<IPython.core.display.Markdown object>"
      ]
     },
     "metadata": {},
     "output_type": "display_data"
    }
   ],
   "source": [
    "for i in range(1,66):\n",
    "    display(Markdown('**'+str(i)+'**:'+questions.cell(i-1,0).value))\n",
    "\n"
   ]
  },
  {
   "cell_type": "code",
   "execution_count": null,
   "metadata": {},
   "outputs": [],
   "source": []
  }
 ],
 "metadata": {
  "kernelspec": {
   "display_name": "Python 3",
   "language": "python",
   "name": "python3"
  },
  "language_info": {
   "codemirror_mode": {
    "name": "ipython",
    "version": 3
   },
   "file_extension": ".py",
   "mimetype": "text/x-python",
   "name": "python",
   "nbconvert_exporter": "python",
   "pygments_lexer": "ipython3",
   "version": "3.8.3"
  }
 },
 "nbformat": 4,
 "nbformat_minor": 4
}
