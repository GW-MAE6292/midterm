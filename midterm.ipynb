{
 "cells": [
  {
   "cell_type": "markdown",
   "metadata": {},
   "source": [
    "# Midterm Exam\n"
   ]
  },
  {
   "cell_type": "code",
   "execution_count": null,
   "metadata": {},
   "outputs": [],
   "source": [
    "import ipywidgets as widgets\n",
    "from IPython.display import display, Markdown\n",
    "from IPython.display import clear_output\n",
    "import time\n",
    "import random\n",
    "from xlrd import open_workbook"
   ]
  },
  {
   "cell_type": "code",
   "execution_count": null,
   "metadata": {},
   "outputs": [],
   "source": [
    "questions = open_workbook('questions.xlsx').sheet_by_index(0)\n",
    "\n",
    "button = widgets.Button(\n",
    "    description='Show Questions',\n",
    "    disabled=False,\n",
    "    button_style='',\n",
    "    icon='check'\n",
    ")\n",
    "start_button = widgets.Button(\n",
    "    description='Start',\n",
    "    disabled=False,\n",
    "    button_style='',\n",
    "    icon='check'\n",
    ")\n",
    "progress_bar = widgets.IntProgress(min=0, max=60)\n",
    "\n",
    "display(button, progress_bar, start_button)\n",
    "\n",
    "def on_button_clicked(b):\n",
    "    clear_output(wait=True)\n",
    "    display(button)\n",
    "    for i in sorted(random.sample(range(1,66),5)):\n",
    "        display(Markdown('**'+str(i)+'**:'+questions.cell(i-1,0).value))\n",
    "    \n",
    "    display(progress_bar, start_button)\n",
    "\n",
    "def on_start_button_clicked(b):\n",
    "    try:\n",
    "        for i in range(60):\n",
    "            progress_bar.value = i\n",
    "            time.sleep(1)\n",
    "    except KeyboardInterrupt:\n",
    "        progress_bar.value = 0            \n",
    "        pass\n",
    "\n",
    "button.on_click(on_button_clicked)\n",
    "start_button.on_click(on_start_button_clicked)\n",
    "\n",
    "# to interrupt the progress bar, press Esc ii"
   ]
  },
  {
   "cell_type": "markdown",
   "metadata": {},
   "source": [
    "To stop the timer, press `Esc i i`"
   ]
  },
  {
   "cell_type": "code",
   "execution_count": null,
   "metadata": {},
   "outputs": [],
   "source": []
  }
 ],
 "metadata": {
  "kernelspec": {
   "display_name": "Python 3",
   "language": "python",
   "name": "python3"
  },
  "language_info": {
   "codemirror_mode": {
    "name": "ipython",
    "version": 3
   },
   "file_extension": ".py",
   "mimetype": "text/x-python",
   "name": "python",
   "nbconvert_exporter": "python",
   "pygments_lexer": "ipython3",
   "version": "3.8.3"
  }
 },
 "nbformat": 4,
 "nbformat_minor": 4
}
